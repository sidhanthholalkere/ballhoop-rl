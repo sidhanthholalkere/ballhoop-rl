{
 "cells": [
  {
   "cell_type": "code",
   "execution_count": 1,
   "metadata": {},
   "outputs": [],
   "source": [
    "import numpy as np\n",
    "from matplotlib import pyplot as plt"
   ]
  },
  {
   "cell_type": "code",
   "execution_count": 2,
   "metadata": {},
   "outputs": [],
   "source": [
    "# coefficients\n",
    "h = 0.020 # timestep in seconds\n",
    "\n",
    "R_o = 0.0958\n",
    "R_i = 0.0438\n",
    "R_b = 0.0077\n",
    "I_b = 1.28e-6\n",
    "m_b = 0.032\n",
    "b   = 1.3e-6\n",
    "g   = 9.81\n",
    "\n",
    "# from https://github.com/aa4cc/flying-ball-in-hoop/blob/master/m/params_init.m\n",
    "ath1 = -0.4800\n",
    "ath2 = -5.1195\n",
    "ath3 = 0.0677\n",
    "bth  = 586.3695\n",
    "\n",
    "apsi1 = -0.0034\n",
    "apsi2 = -73.6336\n",
    "apsi3 = -0.3351\n",
    "bpsi  = 210.12"
   ]
  },
  {
   "cell_type": "code",
   "execution_count": null,
   "metadata": {},
   "outputs": [],
   "source": [
    "# state is a vector that contains th(theta), Dth(derivative of theta), \n",
    "# psi, Dpsi, r, Dr, phi, Dphi, and mode as specified in the paper\n",
    "state = {\n",
    "    'th': 0.,\n",
    "    'Dth' : 0.,\n",
    "    'psi' : 0.,\n",
    "    'Dpsi' : 0.,\n",
    "    'r' : 0.,\n",
    "    'Dr' : 0.,\n",
    "    'phi' : 0.,\n",
    "    'Dphi' : 0.,\n",
    "    'mode' : 1,\n",
    "}"
   ]
  },
  {
   "cell_type": "code",
   "execution_count": null,
   "metadata": {},
   "outputs": [],
   "source": [
    "def update_outerhoop(state, t_i)\n",
    "    '''\n",
    "    Updates the state as it rolls on the outer hoop\n",
    "    '''\n",
    "    assert state['mode'] == 1\n",
    "    \n",
    "    old = state\n",
    "    \n",
    "    th_dot = state['Dth']\n",
    "    Dth_dot = ath1*state['Dth'] + ath2*sin(state['psi']) + ath3*state['Dpsi'] + bth*t_i\n",
    "    psi_dot = state['Dpsi']\n",
    "    Dpsi_dot = apsi1*state['Dth'] + apsi2*sin(state['psi']) + apsi3*state['Dpsi'] + bth*t_i\n",
    "    \n",
    "    state['th'] += h * th_dot\n",
    "    state['Dth'] += h * Dth_dot\n",
    "    state['psi'] += h * Dpsi\n",
    "    state['Dpsi'] += h * Dpsi_dot    \n",
    "    state['r'] = state['r']\n",
    "    state['Dr'] = 0.\n",
    "    state['phi'] = (old['th'] - old['psi'])*R_o/R_b\n",
    "    state['Dphi'] = (old['Dth'] - old['Dpsi'])*R_o/R_b\n",
    "    state['mode'] = 1\n",
    "    \n",
    "    return state"
   ]
  },
  {
   "cell_type": "code",
   "execution_count": null,
   "metadata": {},
   "outputs": [],
   "source": [
    "def outer_to_free(state, eps=0.):\n",
    "    '''\n",
    "    Determines whether to transition from the outer hoop to free fall\n",
    "    and if so, returns the modified state\n",
    "    '''\n",
    "    assert state['mode'] == 1\n",
    "    \n",
    "    if -g*cos(state['psi'])-((R_o - R_b)*(state['dpsi']**2)) > eps:\n",
    "        state = {\n",
    "            'phi': (state['theta'] - state['psi']) * R_o / R_b,\n",
    "            'dphi': (R_o + R_b) ,# FIX THIS\n",
    "            'r': R_o - R_b,\n",
    "            'dr': 0.,\n",
    "            'mode': 'free',\n",
    "        }\n",
    "        \n",
    "        return state\n",
    "    \n",
    "    return state"
   ]
  }
 ],
 "metadata": {
  "kernelspec": {
   "display_name": "Python 3",
   "language": "python",
   "name": "python3"
  },
  "language_info": {
   "codemirror_mode": {
    "name": "ipython",
    "version": 3
   },
   "file_extension": ".py",
   "mimetype": "text/x-python",
   "name": "python",
   "nbconvert_exporter": "python",
   "pygments_lexer": "ipython3",
   "version": "3.8.1"
  }
 },
 "nbformat": 4,
 "nbformat_minor": 4
}
