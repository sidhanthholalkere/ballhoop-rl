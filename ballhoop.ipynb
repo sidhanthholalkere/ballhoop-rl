{
 "cells": [
  {
   "cell_type": "code",
   "execution_count": 1,
   "metadata": {},
   "outputs": [],
   "source": [
    "import numpy as np\n",
    "from matplotlib import pyplot as plt\n",
    "import pandas as pd\n",
    "import math"
   ]
  },
  {
   "cell_type": "code",
   "execution_count": 2,
   "metadata": {},
   "outputs": [],
   "source": [
    "# coefficients\n",
    "h = 0.020 # timestep in seconds\n",
    "\n",
    "#R_o = 0.0958\n",
    "R_i = 0.0438\n",
    "#R_b = 0.0077\n",
    "#I_b = 1.28e-6\n",
    "#m_b = 0.0608\n",
    "#b   = 1.3e-6\n",
    "#g   = 9.81\n",
    "\n",
    "R_oring = 1.5e-3\n",
    "d_oring = 14.7e-3\n",
    "R_b_real = 0.0246/2\n",
    "h_b = math.sqrt((R_b_real + R_oring)**2 - (d_oring/2)**2)\n",
    "\n",
    "d_rotAxis2oring_outer = 203.828/2*1e-3\n",
    "d_rotAxis2oring_Uinner = 89/2*1e-3\n",
    "d_rotAxis2oring_Uouter = 111/2*1e-3\n",
    "\n",
    "R_b = h*R_b_real/(R_b_real + R_oring)\n",
    "R_o = d_rotAxis2oring_outer - (h_b - R_b)\n",
    "R_ui = d_rotAxis2oring_Uinner - (h - R_b)\n",
    "R_uo = d_rotAxis2oring_Uouter + (h - R_b)\n",
    "\n",
    "m_b = 0.0608\n",
    "I_b = (2 / 5) * m_b * R_b_real**2\n",
    "b = 1.3954e-6\n",
    "g = 9.81\n",
    "\n",
    "# from https://github.com/aa4cc/flying-ball-in-hoop/blob/master/m/params_init.m\n",
    "ath1 = -0.4800\n",
    "ath2 = -5.1195\n",
    "ath3 = 0.0677\n",
    "bth  = 586.3695\n",
    "\n",
    "apsi1 = -0.0034\n",
    "apsi2 = -73.6336\n",
    "apsi3 = -0.3351\n",
    "bpsi  = 210.12\n",
    "\n",
    "a_bar = I_b * (R_o ** 2)/(R_b ** 2) + m_b * (R_o - R_b) ** 2\n",
    "b_bar = b * (R_o / R_b) ** 2\n",
    "c_bar = 0.0298\n",
    "d_bar = -b_bar\n",
    "e_bar = I_b * (R_o / R_b) * (R_o / (R_b + 1))"
   ]
  },
  {
   "cell_type": "code",
   "execution_count": 3,
   "metadata": {},
   "outputs": [
    {
     "data": {
      "text/plain": [
       "{'th': 0.0,\n",
       " 'Dth': 0.0,\n",
       " 'psi': 0.0,\n",
       " 'Dpsi': 0.0,\n",
       " 'r': 0.09023420976215754,\n",
       " 'Dr': 0.0,\n",
       " 'phi': 0.0,\n",
       " 'Dphi': 0.0,\n",
       " 'mode': 1}"
      ]
     },
     "execution_count": 3,
     "metadata": {},
     "output_type": "execute_result"
    }
   ],
   "source": [
    "# state is a vector that contains th(theta), Dth(derivative of theta), \n",
    "# psi, Dpsi, r, Dr, phi, Dphi, and mode as specified in the paper\n",
    "state = {\n",
    "    'th': 0.,\n",
    "    'Dth' : 0.,\n",
    "    'psi' : 0.,\n",
    "    'Dpsi' : 0.,\n",
    "    'r' : R_o - R_b,\n",
    "    'Dr' : 0.,\n",
    "    'phi' : 0.,\n",
    "    'Dphi' : 0.,\n",
    "    'mode' : 1,\n",
    "}\n",
    "\n",
    "state"
   ]
  },
  {
   "cell_type": "code",
   "execution_count": 17,
   "metadata": {},
   "outputs": [],
   "source": [
    "def update_outer(state, t_i):\n",
    "    '''\n",
    "    Updates the state as it rolls on the outer hoop\n",
    "    '''\n",
    "    assert state['mode'] == 1\n",
    "    \n",
    "    th_dot = state['Dth']\n",
    "    Dth_dot = ath1*state['Dth'] + ath2*np.sin(state['psi']) + ath3*state['Dpsi'] + bth*t_i\n",
    "    psi_dot = state['Dpsi']\n",
    "    Dpsi_dot = apsi1*state['Dth'] + apsi2*np.sin(state['psi']) + apsi3*state['Dpsi'] + bth*t_i\n",
    "    \n",
    "    state['th'] += h * th_dot\n",
    "    state['Dth'] += h * Dth_dot\n",
    "    state['psi'] += h * Dpsi_dot\n",
    "    state['Dpsi'] += h * Dpsi_dot    \n",
    "    state['r'] = state['r']\n",
    "    state['Dr'] = 0.\n",
    "    state['phi'] = (state['th'] - state['psi'])*R_o/R_b\n",
    "    state['Dphi'] = (state['Dth'] - state['Dpsi'])*R_o/R_b\n",
    "    state['mode'] = 1\n",
    "    \n",
    "    return state"
   ]
  },
  {
   "cell_type": "code",
   "execution_count": 15,
   "metadata": {},
   "outputs": [],
   "source": [
    "def outer_to_free(state, eps=0.):\n",
    "    '''\n",
    "    Determines whether to transition from the outer hoop to free fall\n",
    "    and if so, returns the modified state\n",
    "    '''\n",
    "    assert state['mode'] == 1\n",
    "        \n",
    "    if -g*np.cos(state['psi'])-((R_o - R_b)*(state['Dpsi']**2)) > eps:\n",
    "        \n",
    "        state['phi'] = (state['th'] - state['psi']) * R_o/R_b\n",
    "        state['Dphi'] = ((R_o + R_b)/R_b) * state['Dth'] - (R_o/R_b)* state['Dpsi']\n",
    "        state['r'] = R_o - R_b\n",
    "        state['Dr'] = 0\n",
    "        state['mode'] = 2\n",
    "        \n",
    "        return state\n",
    "    \n",
    "    return state"
   ]
  },
  {
   "cell_type": "code",
   "execution_count": 7,
   "metadata": {},
   "outputs": [],
   "source": [
    "def update_freefall(state, t_i):\n",
    "    '''\n",
    "    Update the state as it is in freefall\n",
    "    '''\n",
    "    assert state['mode'] == 2\n",
    "    \n",
    "    th_dot = state['Dth']\n",
    "    Dth_dot = ath1*state['Dth'] + bth*t_i\n",
    "    phi_dot = state['Dphi']\n",
    "    Dphi_dot = 0\n",
    "    r_dot = Dr\n",
    "    Dr_dot = state['r'] * state['Dpsi']**2 + g * np.cos(state['psi'])\n",
    "    psi_dot = state['Dpsi']\n",
    "    Dpsi_dot = -(g * np.sin(state['psi']) + 2*state['Dpsi']*state['Dr'])/state['r']\n",
    "    \n",
    "    state['th'] += h * th_dot\n",
    "    state['Dth'] += h * Dth_dot\n",
    "    state['psi'] += h * psi_dot\n",
    "    state['Dpsi'] += h * Dpsi_dot\n",
    "    state['r'] += h * r_dot\n",
    "    state['Dr'] += h * Dr_dot\n",
    "    state['phi'] += h * phi_dot\n",
    "    state['Dphi'] += h * Dphi_dot\n",
    "    state['mode'] = 2\n",
    "    \n",
    "    return state"
   ]
  },
  {
   "cell_type": "code",
   "execution_count": 8,
   "metadata": {},
   "outputs": [],
   "source": [
    "def free_to_outer(state, eps=0):\n",
    "    '''\n",
    "    Determines whether to transition from free fall to the outer hoop\n",
    "    and changes the state if it does\n",
    "    '''\n",
    "    assert state['mode'] == 2\n",
    "    \n",
    "    if state['r'] - R_o + R_b > eps:\n",
    "        \n",
    "        state['Dpsi'] = state['Dth'] - (R_b / R_o) * state['Dphi'] + state['Dpsi']\n",
    "        state['Dr'] = 0.\n",
    "        state['r'] = R_o - R_b\n",
    "        state['mode'] = 1\n",
    "        \n",
    "        return state\n",
    "    \n",
    "    return state"
   ]
  },
  {
   "cell_type": "code",
   "execution_count": 9,
   "metadata": {},
   "outputs": [],
   "source": [
    "def free_to_inner(state, eps=0):\n",
    "    '''\n",
    "    Determines whether to transition from free fall to the inner hoop\n",
    "    and changes the state if it does\n",
    "    '''\n",
    "    assert state['mode'] == 2\n",
    "    \n",
    "    if R_i + R_b - state['r'] > eps:\n",
    "        \n",
    "        state['Dpsi'] = state['Dth'] + (R_b/R_i) * state['Dphi'] + state['Dpsi']\n",
    "        state['Dr'] = 0.\n",
    "        state['r'] = R_i + R_b\n",
    "        state['mode'] = 3\n",
    "        \n",
    "        return state\n",
    "    \n",
    "    return state"
   ]
  },
  {
   "cell_type": "code",
   "execution_count": 10,
   "metadata": {},
   "outputs": [],
   "source": [
    "def update_inner(state, t_i):\n",
    "    '''\n",
    "    Update the state as the ball is on the inner hoop\n",
    "    '''\n",
    "    assert state['mode'] == 3\n",
    "    \n",
    "    th_dot = state['Dth']\n",
    "    Dth_dot = ath1*state['Dth'] + bth*t_i\n",
    "    psi_dot = state['Dpsi']\n",
    "    Dpsi_dot = (1/a_bar) * (-b_bar * state['Dpsi'] - c_bar*np.sin(state['psi']) - d_bar * state['Dth'] + e_bar*t_i)\n",
    "    \n",
    "    state['th'] += h * th_dot\n",
    "    state['Dth'] += h * Dth_dot\n",
    "    state['psi'] += h * psi_dot\n",
    "    state['Dpsi'] += h * Dpsi_dot\n",
    "    state['r'] = state['r']\n",
    "    state['Dr'] = 0.\n",
    "    state['phi'] = -(state['th'] - state['psi']) * (R_i / R_b)\n",
    "    state['Dphi'] = -(state['Dth'] - state['Dpsi']) * (R_i / R_b)\n",
    "    state['mode'] = 3\n",
    "    \n",
    "    return state    "
   ]
  },
  {
   "cell_type": "code",
   "execution_count": 11,
   "metadata": {},
   "outputs": [],
   "source": [
    "def inner_to_free(state, eps=0):\n",
    "    '''\n",
    "    Determines whether to transition from inner hoop\n",
    "    to free fall and changes the state if it does\n",
    "    '''\n",
    "    assert state['mode'] == 3\n",
    "    \n",
    "    if g * np.cos(state['psi']) + (R_i + R_b) * state['Dpsi']**2 > eps:\n",
    "        \n",
    "        state['phi'] = -(state['th'] - state['psi']) * (R_i / R_b)\n",
    "        state['Dphi'] = -(((R_i - R_b) / R_b) * state['Dth'] - (R_i / R_b) * state['Dpsi'])\n",
    "        state['r'] = R_i + R_b\n",
    "        state['Dr'] = 0.\n",
    "        state['mode'] = 2\n",
    "        \n",
    "        return state\n",
    "    \n",
    "    return state"
   ]
  },
  {
   "cell_type": "code",
   "execution_count": 12,
   "metadata": {},
   "outputs": [
    {
     "data": {
      "text/plain": [
       "{'th': 0.0,\n",
       " 'Dth': 0.0,\n",
       " 'psi': 0.0,\n",
       " 'Dpsi': 0.0,\n",
       " 'r': 0.09023420976215754,\n",
       " 'Dr': 0.0,\n",
       " 'phi': 0.0,\n",
       " 'Dphi': 0.0,\n",
       " 'mode': 1}"
      ]
     },
     "execution_count": 12,
     "metadata": {},
     "output_type": "execute_result"
    }
   ],
   "source": [
    "state"
   ]
  },
  {
   "cell_type": "code",
   "execution_count": 13,
   "metadata": {},
   "outputs": [],
   "source": [
    "def update(state, t_i):\n",
    "    '''\n",
    "    Updates the state anywhere\n",
    "    '''\n",
    "    # check to see if the state should transition\n",
    "    if state['mode'] == 1:\n",
    "        state = outer_to_free(state)\n",
    "        \n",
    "    if state['mode'] == 2:\n",
    "        state = free_to_outer(state)\n",
    "        \n",
    "    if state['mode'] == 2:\n",
    "        state = free_to_inner(state)\n",
    "        \n",
    "    if state['mode'] == 3:\n",
    "        state = inner_to_free(state)\n",
    "     \n",
    "    # update the state based on the meta-state\n",
    "    if state['mode'] == 1:\n",
    "        state = update_outer(state, t_i)\n",
    "        \n",
    "    if state['mode'] == 2:\n",
    "        state = update_free(state, t_i)\n",
    "        \n",
    "    if state['mode'] == 3:\n",
    "        state = update_inner(state, t_i)\n",
    "        \n",
    "    return state"
   ]
  },
  {
   "cell_type": "code",
   "execution_count": 4,
   "metadata": {},
   "outputs": [
    {
     "data": {
      "text/plain": [
       "{'th': 0.0,\n",
       " 'Dth': 0.0,\n",
       " 'psi': 0.0,\n",
       " 'Dpsi': 0.0,\n",
       " 'r': 0.09023420976215754,\n",
       " 'Dr': 0.0,\n",
       " 'phi': 0.0,\n",
       " 'Dphi': 0.0,\n",
       " 'mode': 1}"
      ]
     },
     "execution_count": 4,
     "metadata": {},
     "output_type": "execute_result"
    }
   ],
   "source": [
    "state"
   ]
  },
  {
   "cell_type": "code",
   "execution_count": 11,
   "metadata": {},
   "outputs": [],
   "source": []
  },
  {
   "cell_type": "code",
   "execution_count": 12,
   "metadata": {},
   "outputs": [],
   "source": []
  },
  {
   "cell_type": "code",
   "execution_count": 13,
   "metadata": {},
   "outputs": [
    {
     "data": {
      "text/plain": [
       "{'th': 1.0,\n",
       " 'Dth': 0.0,\n",
       " 'psi': 0.0,\n",
       " 'Dpsi': 0.0,\n",
       " 'r': 0.09023420976215754,\n",
       " 'Dr': 0.0,\n",
       " 'phi': 0.0,\n",
       " 'Dphi': 0.0,\n",
       " 'mode': 1}"
      ]
     },
     "execution_count": 13,
     "metadata": {},
     "output_type": "execute_result"
    }
   ],
   "source": []
  }
 ],
 "metadata": {
  "kernelspec": {
   "display_name": "Python 3",
   "language": "python",
   "name": "python3"
  },
  "language_info": {
   "codemirror_mode": {
    "name": "ipython",
    "version": 3
   },
   "file_extension": ".py",
   "mimetype": "text/x-python",
   "name": "python",
   "nbconvert_exporter": "python",
   "pygments_lexer": "ipython3",
   "version": "3.7.4"
  }
 },
 "nbformat": 4,
 "nbformat_minor": 4
}
